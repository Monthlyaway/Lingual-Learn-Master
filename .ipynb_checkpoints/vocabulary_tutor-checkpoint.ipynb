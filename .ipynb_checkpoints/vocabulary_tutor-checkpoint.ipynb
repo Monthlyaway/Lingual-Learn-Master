{
 "cells": [
  {
   "cell_type": "code",
   "execution_count": 1,
   "id": "bf1a6dc0-8ba9-4b13-985e-7145f5dc2ceb",
   "metadata": {},
   "outputs": [
    {
     "name": "stderr",
     "output_type": "stream",
     "text": [
      "D:\\Software\\anaconda3\\envs\\bigdl-prompt-engineer\\lib\\site-packages\\tqdm\\auto.py:21: TqdmWarning: IProgress not found. Please update jupyter and ipywidgets. See https://ipywidgets.readthedocs.io/en/stable/user_install.html\n",
      "  from .autonotebook import tqdm as notebook_tqdm\n",
      "2023-09-22 11:18:11,628 - WARNING - BigdlNativeLLM has been deprecated, please switch to the new LLM API for sepcific models.\n"
     ]
    }
   ],
   "source": [
    "import streamlit as st\n",
    "\n",
    "from bigdl.llm.langchain.llms import TransformersLLM\n",
    "from langchain import PromptTemplate\n",
    "from langchain.chains import ConversationChain, LLMChain\n",
    "from langchain.chains.conversation.memory import ConversationBufferMemory\n",
    "from langchain.schema import SystemMessage\n",
    "from langchain.prompts import ChatPromptTemplate, HumanMessagePromptTemplate, MessagesPlaceholder\n",
    "from pathlib import Path\n",
    "MODEL_NAME = \"Llama-2-7b-chat-hf\"\n",
    "\n",
    "def load_transformers_llm(model_name = MODEL_NAME):\n",
    "    # Define the base folder path\n",
    "    base_folder_path = \"F:/Study/Code/llm-models\"\n",
    "\n",
    "    # Append MODEL_NAME to the folder path\n",
    "    model_path = base_folder_path + \"/\" + model_name\n",
    "\n",
    "    if (model_name == \"lmsys-vicuna-7b-v1.5\"):\n",
    "        return TransformersLLM.from_model_id(\n",
    "            model_id=model_path,\n",
    "            model_kwargs={\"temperature\": 0.2, \"trust_remote_code\": True},\n",
    "        )\n",
    "    elif (model_name == \"Llama-2-7b-chat-hf\"):\n",
    "        return TransformersLLM.from_model_id_low_bit(\n",
    "            model_id=model_path,\n",
    "            model_kwargs={\"temperature\": 0.2, \"trust_remote_code\": True},\n",
    "        )"
   ]
  },
  {
   "cell_type": "code",
   "execution_count": 2,
   "id": "c562f039-c286-4dba-8a27-cce0c52e6cb7",
   "metadata": {},
   "outputs": [],
   "source": [
    "llm = load_transformers_llm()"
   ]
  },
  {
   "cell_type": "code",
   "execution_count": 10,
   "id": "b7843ecc-919d-4f03-849d-4e3b40b2ef41",
   "metadata": {},
   "outputs": [],
   "source": [
    "prompt_template = \"What does {word} mean in English, give me some examples.\"\n",
    "\n",
    "llm_chain = LLMChain(\n",
    "    llm=llm,\n",
    "    prompt=PromptTemplate.from_template(prompt_template),\n",
    "    llm_kwargs={\"max_new_tokens\":200}\n",
    ")"
   ]
  },
  {
   "cell_type": "code",
   "execution_count": 11,
   "id": "52c8b631-8750-48e2-acf8-45c33814b4e4",
   "metadata": {},
   "outputs": [
    {
     "name": "stdout",
     "output_type": "stream",
     "text": [
      "Begriffe und Definitionen.\n",
      "In English, \"wind\" can have several meanings depending on the context. Here are some examples and their definitions:\n",
      "1. Air moving from high pressure to low pressure: In this sense, \"wind\" refers to the movement of air due to pressure differences between two areas. For example, \"The wind was strong today, so we had to cancel the picnic.\"\n",
      "2. A breeze or a gentle air movement: In this sense, \"wind\" refers to a light and pleasant air movement. For example, \"I love sitting outside on a windy day, it feels so refreshing.\"\n",
      "3. A current of air in a specific direction: In this sense, \"wind\" refers to the movement of air in a particular direction, such as a wind that blows from the north. For example, \"The wind is blowing from the north today, so we'll have to adjust our sails accordingly.\"\n",
      "\n"
     ]
    },
    {
     "data": {
      "text/plain": [
       "{'word': 'wind',\n",
       " 'text': 'What does wind mean in English, give me some examples. Begriffe und Definitionen.\\nIn English, \"wind\" can have several meanings depending on the context. Here are some examples and their definitions:\\n1. Air moving from high pressure to low pressure: In this sense, \"wind\" refers to the movement of air due to pressure differences between two areas. For example, \"The wind was strong today, so we had to cancel the picnic.\"\\n2. A breeze or a gentle air movement: In this sense, \"wind\" refers to a light and pleasant air movement. For example, \"I love sitting outside on a windy day, it feels so refreshing.\"\\n3. A current of air in a specific direction: In this sense, \"wind\" refers to the movement of air in a particular direction, such as a wind that blows from the north. For example, \"The wind is blowing from the north today, so we\\'ll have to adjust our sails accordingly.\"\\n'}"
      ]
     },
     "execution_count": 11,
     "metadata": {},
     "output_type": "execute_result"
    }
   ],
   "source": [
    "llm_chain(\"wind\")"
   ]
  },
  {
   "cell_type": "code",
   "execution_count": 5,
   "id": "330003c4-14dd-4cf3-a1a2-14c8cc887536",
   "metadata": {},
   "outputs": [],
   "source": [
    "input_list = [\n",
    "    {\"product\": \"socks\"},\n",
    "    {\"product\": \"computer\"},\n",
    "    {\"product\": \"shoes\"}\n",
    "]"
   ]
  },
  {
   "cell_type": "code",
   "execution_count": 6,
   "id": "5215d2cd-738b-4c42-8685-268609af1535",
   "metadata": {},
   "outputs": [],
   "source": [
    "# llm_chain.apply(input_list)"
   ]
  },
  {
   "cell_type": "code",
   "execution_count": 12,
   "id": "ace577b5-f5b6-4ba7-b82e-dba26916220d",
   "metadata": {},
   "outputs": [
    {
     "name": "stdout",
     "output_type": "stream",
     "text": [
      "Unterscheidung between walking sticks and canes.  Walking sticks are used for support when walking, particularly for those with mobility or balance issues. They can also be used as a fashion accessory or for hiking and outdoor activities. Canes, on the other hand, are longer and more rigid than walking sticks, and are typically used for support and balance when walking, especially for those with mobility or balance issues caused by aging or disability.\n",
      "Walking sticks, also known as trekking poles, are lightweight, collapsible poles used for hiking, backpacking, and other outdoor activities. They provide additional stability and support when walking on uneven terrain, such as hills, rocks, or snow. Walking sticks can also be used for balance and as a third point of contact when navigating steep or slippery terrain.\n",
      "In contrast, canes are longer and more rig\n"
     ]
    },
    {
     "data": {
      "text/plain": [
       "'What does walking sticks mean in English, give me some examples. Unterscheidung between walking sticks and canes.  Walking sticks are used for support when walking, particularly for those with mobility or balance issues. They can also be used as a fashion accessory or for hiking and outdoor activities. Canes, on the other hand, are longer and more rigid than walking sticks, and are typically used for support and balance when walking, especially for those with mobility or balance issues caused by aging or disability.\\nWalking sticks, also known as trekking poles, are lightweight, collapsible poles used for hiking, backpacking, and other outdoor activities. They provide additional stability and support when walking on uneven terrain, such as hills, rocks, or snow. Walking sticks can also be used for balance and as a third point of contact when navigating steep or slippery terrain.\\nIn contrast, canes are longer and more rig'"
      ]
     },
     "execution_count": 12,
     "metadata": {},
     "output_type": "execute_result"
    }
   ],
   "source": [
    "llm_chain.predict(word = \"walking sticks\")"
   ]
  },
  {
   "cell_type": "code",
   "execution_count": null,
   "id": "80460cf1-185f-4e19-a4aa-dbb21cea2f6d",
   "metadata": {},
   "outputs": [],
   "source": []
  },
  {
   "cell_type": "code",
   "execution_count": null,
   "id": "434d2877-b115-4f71-a6fb-b59aee40be62",
   "metadata": {},
   "outputs": [],
   "source": []
  },
  {
   "cell_type": "code",
   "execution_count": null,
   "id": "6e2ba2ad-4acd-43ff-bdbd-34ecd8ad7e49",
   "metadata": {},
   "outputs": [],
   "source": []
  }
 ],
 "metadata": {
  "kernelspec": {
   "display_name": "Python 3 (ipykernel)",
   "language": "python",
   "name": "python3"
  },
  "language_info": {
   "codemirror_mode": {
    "name": "ipython",
    "version": 3
   },
   "file_extension": ".py",
   "mimetype": "text/x-python",
   "name": "python",
   "nbconvert_exporter": "python",
   "pygments_lexer": "ipython3",
   "version": "3.10.13"
  }
 },
 "nbformat": 4,
 "nbformat_minor": 5
}
