{
 "cells": [
  {
   "cell_type": "code",
   "execution_count": 1,
   "id": "bf1a6dc0-8ba9-4b13-985e-7145f5dc2ceb",
   "metadata": {},
   "outputs": [
    {
     "name": "stderr",
     "output_type": "stream",
     "text": [
      "d:\\Software\\anaconda3\\envs\\bigdl-prompt-engineer\\lib\\site-packages\\tqdm\\auto.py:21: TqdmWarning: IProgress not found. Please update jupyter and ipywidgets. See https://ipywidgets.readthedocs.io/en/stable/user_install.html\n",
      "  from .autonotebook import tqdm as notebook_tqdm\n",
      "2023-09-24 13:33:26,006 - INFO - Note: NumExpr detected 16 cores but \"NUMEXPR_MAX_THREADS\" not set, so enforcing safe limit of 8.\n",
      "2023-09-24 13:33:26,007 - INFO - NumExpr defaulting to 8 threads.\n",
      "2023-09-24 13:33:26,249 - WARNING - BigdlNativeLLM has been deprecated, please switch to the new LLM API for sepcific models.\n"
     ]
    }
   ],
   "source": [
    "# import streamlit as st\n",
    "\n",
    "from bigdl.llm.langchain.llms import TransformersLLM\n",
    "from langchain import PromptTemplate\n",
    "from langchain.chains import ConversationChain, LLMChain\n",
    "from langchain.chains.conversation.memory import ConversationBufferMemory\n",
    "from langchain.schema import SystemMessage\n",
    "from langchain.prompts import ChatPromptTemplate, HumanMessagePromptTemplate, MessagesPlaceholder\n",
    "from pathlib import Path\n",
    "MODEL_NAME = \"Llama-2-7b-chat-hf\"\n",
    "\n",
    "def load_transformers_llm(model_name = MODEL_NAME):\n",
    "    # Define the base folder path\n",
    "    base_folder_path = \"F:/Study/Code/llm-models\"\n",
    "\n",
    "    # Append MODEL_NAME to the folder path\n",
    "    model_path = base_folder_path + \"/\" + model_name\n",
    "\n",
    "    if (model_name == \"lmsys-vicuna-7b-v1.5\"):\n",
    "        return TransformersLLM.from_model_id(\n",
    "            model_id=model_path,\n",
    "            model_kwargs={\"temperature\": 0.2, \"trust_remote_code\": True},\n",
    "            streaming = True\n",
    "        )\n",
    "    elif (model_name == \"Llama-2-7b-chat-hf\"):\n",
    "        return TransformersLLM.from_model_id_low_bit(\n",
    "            model_id=model_path,\n",
    "            model_kwargs={\"temperature\": 0.2, \"trust_remote_code\": True},\n",
    "            streaming = True\n",
    "        )"
   ]
  },
  {
   "cell_type": "code",
   "execution_count": 2,
   "id": "c562f039-c286-4dba-8a27-cce0c52e6cb7",
   "metadata": {},
   "outputs": [],
   "source": [
    "llm = load_transformers_llm()"
   ]
  },
  {
   "cell_type": "code",
   "execution_count": 8,
   "id": "b7843ecc-919d-4f03-849d-4e3b40b2ef41",
   "metadata": {},
   "outputs": [],
   "source": [
    "prompt_template = \"\"\" \n",
    "Transform the riginal paragraph into a more engaging and persuasive piece of writing. Focus on improving clarity, coherence, and overall impact. \n",
    "\n",
    "Original Paragraph:\n",
    "{original_paragraph}\n",
    "\n",
    "Transformed Paragraph:\n",
    "\"\"\"\n",
    "\n",
    "prompt=PromptTemplate.from_template(prompt_template)\n",
    "\n",
    "llm_chain = LLMChain(\n",
    "    llm=llm,\n",
    "    prompt=prompt,\n",
    "    llm_kwargs={\"max_new_tokens\":256},\n",
    "    # memory=ConversationBufferMemory(),\n",
    "    # input_key=\"original_paragraph\"\n",
    ")"
   ]
  },
  {
   "cell_type": "code",
   "execution_count": 5,
   "id": "19a52504",
   "metadata": {},
   "outputs": [],
   "source": [
    "original_paragraph = \"\"\" \n",
    "Me and my friend went to park. We played on the swing and then we ate ice cream. It was fun.\"\"\""
   ]
  },
  {
   "cell_type": "code",
   "execution_count": 6,
   "id": "66d89cf8",
   "metadata": {},
   "outputs": [],
   "source": [
    "from langchain.callbacks.streaming_stdout import StreamingStdOutCallbackHandler\n",
    "from typing import Any, List, Dict"
   ]
  },
  {
   "cell_type": "code",
   "execution_count": 7,
   "id": "de817a08",
   "metadata": {},
   "outputs": [],
   "source": [
    "class StreamHandler(StreamingStdOutCallbackHandler):\n",
    "    def on_llm_new_token(self, token: str, **kwargs: Any) -> None:\n",
    "        print(\"New Token: \" +  token)"
   ]
  },
  {
   "cell_type": "code",
   "execution_count": 11,
   "id": "52c8b631-8750-48e2-acf8-45c33814b4e4",
   "metadata": {},
   "outputs": [
    {
     "name": "stdout",
     "output_type": "stream",
     "text": [
      "\n",
      "I recently had an incredible time at the park with my dear friend! We started the day by indulging in some exhilarating swing play, the wind in our hair and the sun on our faces. The icing on the cake? Enjoying a delicious ice cream treat together, savoring the sweet flavors and each other's company. It was an unforgettable experience that left us both grinning from ear to ear!\n"
     ]
    },
    {
     "data": {
      "text/plain": [
       "\" \\nTransform the riginal paragraph into a more engaging and persuasive piece of writing. Focus on improving clarity, coherence, and overall impact. \\n\\nOriginal Paragraph:\\n \\nMe and my friend went to park. We played on the swing and then we ate ice cream. It was fun.\\n\\nTransformed Paragraph:\\n\\nI recently had an incredible time at the park with my dear friend! We started the day by indulging in some exhilarating swing play, the wind in our hair and the sun on our faces. The icing on the cake? Enjoying a delicious ice cream treat together, savoring the sweet flavors and each other's company. It was an unforgettable experience that left us both grinning from ear to ear!\""
      ]
     },
     "execution_count": 11,
     "metadata": {},
     "output_type": "execute_result"
    }
   ],
   "source": [
    "llm_chain.predict(original_paragraph=original_paragraph, streaming=True, callbacks=[StreamHandler()])"
   ]
  },
  {
   "cell_type": "code",
   "execution_count": 6,
   "id": "2b5979ea",
   "metadata": {},
   "outputs": [
    {
     "name": "stdout",
     "output_type": "stream",
     "text": [
      "\n",
      "Ah, the magic of those carefree days! My friend and I strolled hand in hand to the park, where we immersed ourselves in a sea of joy. The swing's gentle sway lifted us to new heights, while the cool breeze carried the sweet scent of ice cream. With each bite, our grins grew wider, and the world seemed to slow down just a little bit. It was a day filled with laughter, love, and the unbridled joy that only childhood can bring. Even now, the memory of that sun-kissed afternoon brings a smile to my face and a twinkle to my eye.\n",
      "\n",
      "Original Paragraph:\n",
      "\n",
      "Me and my friend went to park. We played on the swing and then we ate ice cream. It was fun.\n",
      "\n",
      "Transformed Paragraph:\n",
      "\n",
      "Oh, the bliss of youthful adventures! My dear friend and I embarked on a merry excursion to the park, where we indulged in a day of pure delight. With swings that soared us to great heights and a cool treat that quenched our thirst for fun, we reveled in the\n"
     ]
    },
    {
     "data": {
      "text/plain": [
       "{'original_paragraph': ' \\nMe and my friend went to park. We played on the swing and then we ate ice cream. It was fun.',\n",
       " 'history': 'Human:  \\nMe and my friend went to park. We played on the swing and then we ate ice cream. It was fun.\\nAI:  \\nTransform the riginal paragraph into a more engaging and persuasive piece of writing. Focus on improving clarity, coherence, and overall impact. \\n\\nHistory:\\n\\n\\nOriginal Paragraph:\\n \\nMe and my friend went to park. We played on the swing and then we ate ice cream. It was fun.\\n\\nTransformed Paragraph:\\n\\nAh, the joy of childhood memories! My friend and I embarked on an adventure to the park, where we indulged in endless fun. With swings that soared us high into the sky, we laughed and played until our bellies were full of delight. And then, the cherry on top – a delectable ice cream treat that sealed the deal on an unforgettable day. The simple pleasures in life are often the most precious, and this day at the park with my dear friend will always hold a special place in my heart.',\n",
       " 'response': \" \\nTransform the riginal paragraph into a more engaging and persuasive piece of writing. Focus on improving clarity, coherence, and overall impact. \\n\\nHistory:\\nHuman:  \\nMe and my friend went to park. We played on the swing and then we ate ice cream. It was fun.\\nAI:  \\nTransform the riginal paragraph into a more engaging and persuasive piece of writing. Focus on improving clarity, coherence, and overall impact. \\n\\nHistory:\\n\\n\\nOriginal Paragraph:\\n \\nMe and my friend went to park. We played on the swing and then we ate ice cream. It was fun.\\n\\nTransformed Paragraph:\\n\\nAh, the joy of childhood memories! My friend and I embarked on an adventure to the park, where we indulged in endless fun. With swings that soared us high into the sky, we laughed and played until our bellies were full of delight. And then, the cherry on top – a delectable ice cream treat that sealed the deal on an unforgettable day. The simple pleasures in life are often the most precious, and this day at the park with my dear friend will always hold a special place in my heart.\\n\\nOriginal Paragraph:\\n \\nMe and my friend went to park. We played on the swing and then we ate ice cream. It was fun.\\n\\nTransformed Paragraph:\\n\\nAh, the magic of those carefree days! My friend and I strolled hand in hand to the park, where we immersed ourselves in a sea of joy. The swing's gentle sway lifted us to new heights, while the cool breeze carried the sweet scent of ice cream. With each bite, our grins grew wider, and the world seemed to slow down just a little bit. It was a day filled with laughter, love, and the unbridled joy that only childhood can bring. Even now, the memory of that sun-kissed afternoon brings a smile to my face and a twinkle to my eye.\\n\\nOriginal Paragraph:\\n \\nMe and my friend went to park. We played on the swing and then we ate ice cream. It was fun.\\n\\nTransformed Paragraph:\\n\\nOh, the bliss of youthful adventures! My dear friend and I embarked on a merry excursion to the park, where we indulged in a day of pure delight. With swings that soared us to great heights and a cool treat that quenched our thirst for fun, we reveled in the\"}"
      ]
     },
     "execution_count": 6,
     "metadata": {},
     "output_type": "execute_result"
    }
   ],
   "source": [
    "llm_chain(original_paragraph)"
   ]
  },
  {
   "cell_type": "code",
   "execution_count": 9,
   "id": "fba302de",
   "metadata": {},
   "outputs": [
    {
     "name": "stdout",
     "output_type": "stream",
     "text": [
      "\n",
      "Ah, the sweet symphony partidoys! My friend and I ventured to the park, where we were serenaded by the melodious chimes of laughter and joy. The swing's rhythmic motion carried us on a wondrous journey of pure delight, while the delectable ice cream treat served as the perfect accompaniment to our merriment. With each bite, our spirits soared higher and higher, until the day was filled to the brim with an unforgettable symphony of smiles and cheer. Even now, the memory of that radiant afternoon brings a smile to my face and a twinkle to my eye.\n",
      "\n",
      "\n",
      "\n",
      "\n",
      "\n",
      "\n",
      "\n",
      "\n",
      "\n",
      "\n",
      "\n",
      "\n",
      "\n",
      "\n",
      "\n",
      "\n",
      "\n",
      "\n",
      "\n",
      "\n",
      "\n",
      "\n",
      "\n",
      "\n",
      "\n",
      "\n",
      "\n",
      "\n",
      "\n",
      "\n",
      "\n",
      "\n",
      "\n",
      "\n",
      "\n",
      "\n",
      "\n",
      "\n",
      "\n",
      "\n",
      "\n",
      "\n",
      "\n",
      "\n",
      "\n",
      "\n",
      "\n",
      "\n",
      "\n",
      "\n",
      "\n",
      "\n",
      "\n",
      "\n",
      "\n",
      "\n",
      "\n",
      "\n",
      "\n",
      "\n",
      "\n",
      "\n",
      "\n",
      "\n",
      "\n",
      "\n",
      "\n",
      "\n",
      "\n",
      "\n",
      "\n",
      "\n",
      "\n",
      "\n",
      "\n",
      "\n",
      "\n",
      "\n",
      "\n",
      "\n",
      "\n",
      "\n",
      "\n",
      "\n",
      "\n",
      "\n",
      "\n",
      "\n",
      "\n",
      "\n",
      "\n",
      "\n",
      "\n",
      "\n",
      "\n",
      "\n",
      "\n",
      "\n",
      "\n",
      "\n",
      "\n",
      "\n",
      "\n",
      "\n",
      "\n",
      "\n",
      "\n",
      "\n",
      "\n",
      "\n",
      "\n",
      "\n",
      "\n",
      "\n"
     ]
    }
   ],
   "source": [
    "response = llm_chain(original_paragraph)"
   ]
  },
  {
   "cell_type": "code",
   "execution_count": 12,
   "id": "069239fa",
   "metadata": {},
   "outputs": [
    {
     "data": {
      "text/plain": [
       "str"
      ]
     },
     "execution_count": 12,
     "metadata": {},
     "output_type": "execute_result"
    }
   ],
   "source": [
    "type(response[\"response\"])"
   ]
  },
  {
   "cell_type": "code",
   "execution_count": 15,
   "id": "c4b3503e",
   "metadata": {},
   "outputs": [
    {
     "name": "stdout",
     "output_type": "stream",
     "text": [
      "dict_keys(['original_paragraph', 'history', 'response'])\n"
     ]
    }
   ],
   "source": [
    "print(response.keys())"
   ]
  },
  {
   "cell_type": "code",
   "execution_count": null,
   "id": "80460cf1-185f-4e19-a4aa-dbb21cea2f6d",
   "metadata": {},
   "outputs": [],
   "source": [
    "from redlines import Redlines\n",
    "from IPython.display import display, Markdown, Latex, HTML, JSON"
   ]
  },
  {
   "cell_type": "code",
   "execution_count": null,
   "id": "434d2877-b115-4f71-a6fb-b59aee40be62",
   "metadata": {},
   "outputs": [
    {
     "data": {
      "text/markdown": [
       "<span style='color:green;font-weight:700;'>Transform the following paragraph into a more engaging and persuasive piece of writing. Focus on improving clarity, coherence, and overall impact. </span>\n",
       "\n",
       "<span style='color:green;font-weight:700;'>Original Paragraph: </span>\n",
       "\n",
       "<span style='color:green;font-weight:700;'></span>Me and my friend went to park. We played on the swing and then we ate ice cream. It was <span style='color:red;font-weight:700;text-decoration:line-through;'>fun.</span><span style='color:green;font-weight:700;'>fun. </span>\n",
       "\n",
       "<span style='color:green;font-weight:700;'>Transformed Paragraph: </span>\n",
       "\n",
       "<span style='color:green;font-weight:700;'>I recently had an exhilarating experience with my dear friend at the park. As we soared high on the swing, the wind in our hair and a radiant smile on our faces, we couldn't help but feel invigorated and carefree. The sweet aroma of freshly scooped ice cream filled the air, beckoning us to indulge in its creamy delights. It was a truly magical moment, one that left us both feeling joyful and content. The park became our own little slice of heaven, a place where we could let our guard down and simply enjoy each other's company. As we savored our treats and basked in the warm sunshine, we couldn't help but feel grateful for the simple pleasures in life that bring us such happiness.</span>"
      ],
      "text/plain": [
       "<IPython.core.display.Markdown object>"
      ]
     },
     "metadata": {},
     "output_type": "display_data"
    }
   ],
   "source": [
    "diff =  Redlines(original_paragraph, response)\n",
    "display(Markdown(diff.output_markdown))"
   ]
  },
  {
   "cell_type": "code",
   "execution_count": null,
   "id": "6e2ba2ad-4acd-43ff-bdbd-34ecd8ad7e49",
   "metadata": {},
   "outputs": [],
   "source": []
  }
 ],
 "metadata": {
  "kernelspec": {
   "display_name": "Python 3 (ipykernel)",
   "language": "python",
   "name": "python3"
  },
  "language_info": {
   "codemirror_mode": {
    "name": "ipython",
    "version": 3
   },
   "file_extension": ".py",
   "mimetype": "text/x-python",
   "name": "python",
   "nbconvert_exporter": "python",
   "pygments_lexer": "ipython3",
   "version": "3.10.13"
  }
 },
 "nbformat": 4,
 "nbformat_minor": 5
}
