{
 "cells": [
  {
   "cell_type": "code",
   "execution_count": 10,
   "metadata": {},
   "outputs": [],
   "source": [
    "from bigdl.llm.langchain.llms import LlamaLLM\n",
    "from bigdl.llm.langchain.embeddings import TransformersEmbeddings\n",
    "from langchain.chains.question_answering import load_qa_chain\n"
   ]
  },
  {
   "cell_type": "code",
   "execution_count": 11,
   "metadata": {},
   "outputs": [
    {
     "ename": "ValidationError",
     "evalue": "1 validation error for TransformersEmbeddings\nmodel_path\n  extra fields not permitted (type=value_error.extra)",
     "output_type": "error",
     "traceback": [
      "\u001b[1;31m---------------------------------------------------------------------------\u001b[0m",
      "\u001b[1;31mValidationError\u001b[0m                           Traceback (most recent call last)",
      "\u001b[1;32mf:\\Study\\Code\\Monthlyaway\\Prompt-Engineering-LLM\\llama-test.ipynb Cell 2\u001b[0m line \u001b[0;36m2\n\u001b[0;32m      <a href='vscode-notebook-cell:/f%3A/Study/Code/Monthlyaway/Prompt-Engineering-LLM/llama-test.ipynb#W1sZmlsZQ%3D%3D?line=0'>1</a>\u001b[0m \u001b[39m#switch to ChatGLMEmbeddings/GptneoxEmbeddings/BloomEmbeddings/StarcoderEmbeddings to load other models\u001b[39;00m\n\u001b[1;32m----> <a href='vscode-notebook-cell:/f%3A/Study/Code/Monthlyaway/Prompt-Engineering-LLM/llama-test.ipynb#W1sZmlsZQ%3D%3D?line=1'>2</a>\u001b[0m embeddings \u001b[39m=\u001b[39m TransformersEmbeddings(model_path\u001b[39m=\u001b[39;49m\u001b[39m'\u001b[39;49m\u001b[39mC:/Users/24075/.cache/torch/sentence_transformers/hkunlp_instructor-large\u001b[39;49m\u001b[39m'\u001b[39;49m)\n",
      "File \u001b[1;32md:\\Software\\anaconda3\\envs\\bigdl-prompt-engineer\\lib\\site-packages\\pydantic\\main.py:341\u001b[0m, in \u001b[0;36mpydantic.main.BaseModel.__init__\u001b[1;34m()\u001b[0m\n",
      "\u001b[1;31mValidationError\u001b[0m: 1 validation error for TransformersEmbeddings\nmodel_path\n  extra fields not permitted (type=value_error.extra)"
     ]
    }
   ],
   "source": [
    "\n",
    "#switch to ChatGLMEmbeddings/GptneoxEmbeddings/BloomEmbeddings/StarcoderEmbeddings to load other models\n",
    "embeddings = TransformersEmbeddings(model_path='C:/Users/24075/.cache/torch/sentence_transformers/hkunlp_instructor-large')\n"
   ]
  },
  {
   "cell_type": "code",
   "execution_count": null,
   "metadata": {},
   "outputs": [],
   "source": [
    "#switch to ChatGLMLLM/GptneoxLLM/BloomLLM/StarcoderLLM to load other models\n",
    "bigdl_llm = LlamaLLM(model_path='F:/Study/Code/llm-models/Llama-2-7b-chat-hf', embeddings=embeddings)\n"
   ]
  },
  {
   "cell_type": "code",
   "execution_count": null,
   "metadata": {},
   "outputs": [],
   "source": [
    "\n",
    "doc_chain = load_qa_chain(bigdl_llm, ...)\n",
    "doc_chain.run(...)"
   ]
  }
 ],
 "metadata": {
  "kernelspec": {
   "display_name": "Python 3",
   "language": "python",
   "name": "python3"
  },
  "language_info": {
   "codemirror_mode": {
    "name": "ipython",
    "version": 3
   },
   "file_extension": ".py",
   "mimetype": "text/x-python",
   "name": "python",
   "nbconvert_exporter": "python",
   "pygments_lexer": "ipython3",
   "version": "3.10.13"
  },
  "orig_nbformat": 4
 },
 "nbformat": 4,
 "nbformat_minor": 2
}
